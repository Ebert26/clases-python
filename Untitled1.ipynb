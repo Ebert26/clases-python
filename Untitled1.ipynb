{
  "nbformat": 4,
  "nbformat_minor": 0,
  "metadata": {
    "colab": {
      "name": "Untitled1.ipynb",
      "provenance": [],
      "authorship_tag": "ABX9TyN+HuDCWDTNy52iOgo3OWkD",
      "include_colab_link": true
    },
    "kernelspec": {
      "name": "python3",
      "display_name": "Python 3"
    },
    "language_info": {
      "name": "python"
    }
  },
  "cells": [
    {
      "cell_type": "markdown",
      "metadata": {
        "id": "view-in-github",
        "colab_type": "text"
      },
      "source": [
        "<a href=\"https://colab.research.google.com/github/Ebert26/clases-python/blob/main/Untitled1.ipynb\" target=\"_parent\"><img src=\"https://colab.research.google.com/assets/colab-badge.svg\" alt=\"Open In Colab\"/></a>"
      ]
    },
    {
      "cell_type": "code",
      "execution_count": null,
      "metadata": {
        "id": "sdkGWYFz6A8K"
      },
      "outputs": [],
      "source": [
        "\"\"\"EJERCICIOS\"\"\""
      ]
    },
    {
      "cell_type": "markdown",
      "source": [
        "# **MODULO 2**"
      ],
      "metadata": {
        "id": "VNySTFWV_LJk"
      }
    },
    {
      "cell_type": "markdown",
      "source": [
        "<b> Ejercicio 1</b>\n",
        "\n",
        "Imagina que un extraterrestre acaba de ser derribado en un juego. Cree una variable llamada alien_color y asígnele un valor de 'verde', 'amarillo' o 'rojo'.\n",
        "\n",
        "Escribe una declaración if para probar si el color del extraterrestre es verde. Si es así, imprime un mensaje de que el jugador acaba de ganar 5 puntos."
      ],
      "metadata": {
        "id": "Y-WZOmge-ddV"
      }
    },
    {
      "cell_type": "code",
      "source": [
        "alien_color = \"verde\"\n",
        "\n",
        "if \"verde\" == alien_color:\n",
        "  print(\"El jugador acaba de ganar 5 puntos\")\n"
      ],
      "metadata": {
        "colab": {
          "base_uri": "https://localhost:8080/"
        },
        "id": "jZeFfFXn_0Vq",
        "outputId": "e6850a65-ae81-4e4f-89b4-5be5e2f18916"
      },
      "execution_count": 14,
      "outputs": [
        {
          "output_type": "stream",
          "name": "stdout",
          "text": [
            "El jugador acaba de ganar 5 puntos\n"
          ]
        }
      ]
    },
    {
      "cell_type": "markdown",
      "source": [
        "<b> Ejercicio 2</b>\n",
        "\n",
        "Elija un color para un extraterrestre como lo hizo en el Ejercicio anterior y escriba una cadena if-else.\n",
        "\n",
        "Si el alienígena es verde, imprime un mensaje de que el jugador obtuvo 5 puntos.\n",
        "Si el alienígena es amarillo, imprime un mensaje de que el jugador obtuvo 10 puntos.\n",
        "Si el alienígena es rojo, imprime un mensaje de que el jugador obtuvo 15 puntos."
      ],
      "metadata": {
        "id": "fe2t6tUu-_sX"
      }
    },
    {
      "cell_type": "code",
      "source": [
        "c = input(\"Ingrese un color: \")\n",
        "\n",
        "if c == \"verde\":\n",
        "  print(\"El jugador obtuvo 5 puntos\")\n",
        "elif c == \"amarillo\":\n",
        "  print(\"El jugador obtuvo 10 puntos\")\n",
        "elif c == \"rojo\":\n",
        "  print(\"El jugador obtuvo 15 puntos\")\n",
        "else:\n",
        "  print(\"Respuesta no valida\")"
      ],
      "metadata": {
        "colab": {
          "base_uri": "https://localhost:8080/"
        },
        "id": "nPwX9gCh_7e_",
        "outputId": "8fe826a8-c852-43ae-b1e7-bc7deeb1fc5c"
      },
      "execution_count": 15,
      "outputs": [
        {
          "output_type": "stream",
          "name": "stdout",
          "text": [
            "Ingrese un color: rojo\n",
            "El jugador obtuvo 15 puntos\n"
          ]
        }
      ]
    },
    {
      "cell_type": "markdown",
      "source": [
        "<b> Ejercicio 1</b>\n",
        "\n",
        "Escriba un ciclo que solicite al usuario que ingrese una serie de ingredientes para la pizza hasta que ingrese un valor de 'salir'. A medida que ingresen cada ingrediente, imprima un mensaje que diga que agregará ese ingrediente a su pizza."
      ],
      "metadata": {
        "id": "NzzH8uoCFAMM"
      }
    },
    {
      "cell_type": "code",
      "source": [
        "prompt = \"\\nIngrese un ingrediente para su pizza: \"\n",
        "prompt += \"\\nEscribe 'salir' para finalizar. \"\n",
        "\n",
        "ingrediente = \"\"\n",
        "while ingrediente != 'salir':\n",
        "  ingrediente = input(prompt)\n",
        "  print(ingrediente)"
      ],
      "metadata": {
        "colab": {
          "base_uri": "https://localhost:8080/"
        },
        "id": "RtJEtqLIAcND",
        "outputId": "1d56d32d-9f9d-4b18-d111-a1753dfbf9c3"
      },
      "execution_count": 16,
      "outputs": [
        {
          "output_type": "stream",
          "name": "stdout",
          "text": [
            "\n",
            "Ingrese un ingrediente para su pizza: \n",
            "Escribe 'salir' para finalizar. salir\n",
            "salir\n"
          ]
        }
      ]
    },
    {
      "cell_type": "markdown",
      "source": [
        "<b> Ejercicio 2</b>\n",
        "\n",
        "Un cine cobra diferentes precios de boletos dependiendo de la edad de una persona. Si una persona es menor de 3 años, la entrada es gratuita; si son entre 3 y 12, el boleto cuesta s/. 10; y si son mayores de 12 años, el boleto cuesta s/. 15. Escriba un ciclo en el que pregunte a los usuarios su edad y luego dígales el costo de su boleto de cine."
      ],
      "metadata": {
        "id": "ATFL1LTaFDoF"
      }
    },
    {
      "cell_type": "code",
      "source": [
        "edad = int(input(\"Ingrese su edad : \"))\n",
        "\n",
        "if edad <= 3:\n",
        "  print(\"La entrada es gratuita\")\n",
        "elif edad < 12:\n",
        "  print(\"La entrada cuesta $ 10\")\n",
        "elif edad >= 12:\n",
        "  print(\"La entrada cuesta $ 15\")\n",
        "else:\n",
        "  print(\"ERROR al ingresar su edad\")"
      ],
      "metadata": {
        "colab": {
          "base_uri": "https://localhost:8080/"
        },
        "id": "0T1HlvJUAoJu",
        "outputId": "bf6aef27-9476-4fc3-8b9b-e4b65a71e652"
      },
      "execution_count": 17,
      "outputs": [
        {
          "output_type": "stream",
          "name": "stdout",
          "text": [
            "Ingrese su edad : 23\n",
            "La entrada cuesta $ 15\n"
          ]
        }
      ]
    },
    {
      "cell_type": "markdown",
      "source": [
        "<b> Ejercicio 1</b>\n",
        "\n",
        "\n",
        "Piensa en al menos tres tipos de tu pizza favorita. Almacene estos nombres de pizza en una lista y luego use un ciclo for para imprimir el nombre de cada pizza.\n",
        "\n",
        "Modifique su ciclo for para imprimir una oración usando el nombre de la pizza en lugar de imprimir solo el nombre de la pizza. Para cada pizza, debe tener una línea de salida que contenga una declaración simple como Me gusta la pizza de pepperoni.\n",
        "Agregue una línea al final de su programa, fuera del bucle for, que indique cuánto le gusta la pizza. El resultado debe constar de tres o más líneas sobre los tipos de pizza que te gustan y luego una oración adicional, como ¡Me encanta la pizza!\n"
      ],
      "metadata": {
        "id": "FHwT_HI5Hedh"
      }
    },
    {
      "cell_type": "code",
      "source": [
        "pizzas = [\"pizza peperoni\", \"pizza con champiñones\", \"pizza hawaiana\"]\n",
        "\n",
        "for pizza in pizzas:\n",
        "  print(pizza)\n",
        "\n",
        "for pizza in pizzas:\n",
        "  print(f\"\\nMe gusta la {pizza}\")\n",
        "\n",
        "print(\"\\n¡Me gusta la pizza!\")"
      ],
      "metadata": {
        "colab": {
          "base_uri": "https://localhost:8080/"
        },
        "id": "8TaHzyL1A8BI",
        "outputId": "77b4af3f-be2a-4962-db16-8684bacf626d"
      },
      "execution_count": 19,
      "outputs": [
        {
          "output_type": "stream",
          "name": "stdout",
          "text": [
            "pizza peperoni\n",
            "pizza con champiñones\n",
            "pizza hawaiana\n",
            "\n",
            "Me gusta la pizza peperoni\n",
            "\n",
            "Me gusta la pizza con champiñones\n",
            "\n",
            "Me gusta la pizza hawaiana\n",
            "\n",
            "¡Me gusta la pizza!\n"
          ]
        }
      ]
    },
    {
      "cell_type": "markdown",
      "source": [
        "<b> Ejercicio 2</b>\n",
        "\n",
        "Piensa en al menos tres animales diferentes que tengan una característica común. Guarde los nombres de estos animales en una lista y luego use un ciclo for para imprimir el nombre de cada animal.\n",
        "\n",
        "Modifique su programa para imprimir una declaración sobre cada animal, como Un perro sería una gran mascota.\n",
        "Agregue una línea al final de su programa indicando lo que estos animales tienen en común. Podría escribir una oración como ¡Cualquiera de estos animales sería una gran mascota!"
      ],
      "metadata": {
        "id": "CBNrK6wXHnEm"
      }
    },
    {
      "cell_type": "code",
      "source": [
        "animales = [\"gato\", \"perro\", \"conejo\"]\n",
        "\n",
        "for animal in animales:\n",
        "  print(animal)\n",
        "\n",
        "for animal in animales:\n",
        "  if animal == \"gato\":\n",
        "    print(f\"\\nUn {animal} es muy agil\")\n",
        "  elif animal == \"conejo\":\n",
        "    print(f\"\\nUn {animal} tiene unas orejas largas\")\n",
        "  elif animal == \"perro\":\n",
        "    print(f\"\\nUn {animal} es uno de los animales domesticos mas antiguos del mundo\")\n",
        "\n",
        "print(\"\\n¡Cualquiera de estos animales sería una gran mascota!\")"
      ],
      "metadata": {
        "colab": {
          "base_uri": "https://localhost:8080/"
        },
        "id": "9gXSwKk9BBMp",
        "outputId": "17a525f5-31bd-402c-e74a-2d325e3bef0e"
      },
      "execution_count": 18,
      "outputs": [
        {
          "output_type": "stream",
          "name": "stdout",
          "text": [
            "gato\n",
            "perro\n",
            "conejo\n",
            "\n",
            "Un gato es muy agil\n",
            "\n",
            "Un perro es uno de los animales domesticos mas antiguos del mundo\n",
            "\n",
            "Un conejo tiene unas orejas largas\n",
            "\n",
            "¡Cualquiera de estos animales sería una gran mascota!\n"
          ]
        }
      ]
    },
    {
      "cell_type": "markdown",
      "source": [
        "#**MODULO 3**"
      ],
      "metadata": {
        "id": "gY71PVPi9IBg"
      }
    },
    {
      "cell_type": "markdown",
      "source": [
        "---\n",
        "\n",
        "<b> Ejercicio 1</b>\n",
        "\n",
        "Escribe una función llamada **make_shirt()** que acepte un tamaño y el texto de un mensaje que debería estar impreso en la camiseta. La función debe imprimir una oración que resuma el tamaño de la camisa y el mensaje impreso en ella.\n",
        "\n",
        "Llame a la función una vez usando argumentos posicionales para hacer una camisa. Llame a la función por segunda vez usando argumentos de palabras clave.\n"
      ],
      "metadata": {
        "id": "ixT6ac8IrM_m"
      }
    },
    {
      "cell_type": "code",
      "source": [
        "def make_shirt(size, message):\n",
        "  \"\"\"La función imprime una oración que resume el tamaño de la camiseta y el mensaje impreso en ella.\"\"\"\n",
        "  print(f'El tamaño de la camiseta es {size} y el mensaje será \"{message}\".')"
      ],
      "metadata": {
        "id": "SFkyWlRP6os2"
      },
      "execution_count": 2,
      "outputs": []
    },
    {
      "cell_type": "code",
      "source": [
        "make_shirt('30', 'Yo amo Python')"
      ],
      "metadata": {
        "colab": {
          "base_uri": "https://localhost:8080/"
        },
        "id": "dZW03Skm6usC",
        "outputId": "95673d05-83db-4abb-beca-93074f52f870"
      },
      "execution_count": 4,
      "outputs": [
        {
          "output_type": "stream",
          "name": "stdout",
          "text": [
            "El tamaño de la camiseta es 30 y el mensaje será \"Yo amo Python\".\n"
          ]
        }
      ]
    },
    {
      "cell_type": "code",
      "source": [
        "make_shirt(size = '30', message = 'Yo amo Python')"
      ],
      "metadata": {
        "colab": {
          "base_uri": "https://localhost:8080/"
        },
        "id": "chTKpGqL6wpj",
        "outputId": "ea7e343f-e637-4603-b5dd-298a2abd6df4"
      },
      "execution_count": 5,
      "outputs": [
        {
          "output_type": "stream",
          "name": "stdout",
          "text": [
            "El tamaño de la camiseta es 30 y el mensaje será \"Yo amo Python\".\n"
          ]
        }
      ]
    },
    {
      "cell_type": "markdown",
      "source": [
        "---\n",
        "\n",
        "<b> Ejercicio 2</b>\n",
        "\n",
        "Modifique la función **make_shirt()** para que las camisetas sean grandes por defecto con un mensaje que diga Me encanta Python. Haz una camiseta grande y una camiseta mediana con el mensaje predeterminado y una camiseta de cualquier tamaño con un mensaje diferente.\n"
      ],
      "metadata": {
        "id": "SFKpbJpntvpg"
      }
    },
    {
      "cell_type": "code",
      "source": [
        "def make_shirt(size = \"grande\", message = \"Me encanta Python\"):\n",
        "  \"\"\"La función imprime una oración que resume el tamaño de la camiseta y el mensaje impreso en ella.\"\"\"\n",
        "  print(f'El tamaño de la camiseta es {size} y el mensaje será \"{message}\"')"
      ],
      "metadata": {
        "id": "B8LPVOs28pCD"
      },
      "execution_count": 6,
      "outputs": []
    },
    {
      "cell_type": "code",
      "source": [
        "make_shirt()"
      ],
      "metadata": {
        "colab": {
          "base_uri": "https://localhost:8080/"
        },
        "id": "82kkjSEq8s5p",
        "outputId": "5475faaf-5cd6-4657-bd46-58c28ef5e726"
      },
      "execution_count": 7,
      "outputs": [
        {
          "output_type": "stream",
          "name": "stdout",
          "text": [
            "El tamaño de la camiseta es grande y el mensaje será \"Me encanta Python\"\n"
          ]
        }
      ]
    },
    {
      "cell_type": "code",
      "source": [
        "make_shirt(size = \"mediano\")"
      ],
      "metadata": {
        "colab": {
          "base_uri": "https://localhost:8080/"
        },
        "id": "1yBAn3tk8ulN",
        "outputId": "a5b92e70-9dd9-4bf2-f754-a361a3b80fa1"
      },
      "execution_count": 8,
      "outputs": [
        {
          "output_type": "stream",
          "name": "stdout",
          "text": [
            "El tamaño de la camiseta es mediano y el mensaje será \"Me encanta Python\"\n"
          ]
        }
      ]
    },
    {
      "cell_type": "code",
      "source": [
        "make_shirt(size = \"small\", message = \"Estoy aprendiendo\")"
      ],
      "metadata": {
        "colab": {
          "base_uri": "https://localhost:8080/"
        },
        "id": "uqw5Wcse8wfo",
        "outputId": "21485006-1df0-49bc-e551-d692bb1f89a9"
      },
      "execution_count": 9,
      "outputs": [
        {
          "output_type": "stream",
          "name": "stdout",
          "text": [
            "El tamaño de la camiseta es small y el mensaje será \"Estoy aprendiendo\"\n"
          ]
        }
      ]
    },
    {
      "cell_type": "markdown",
      "source": [
        "---\n",
        "\n",
        "<b> Ejercicio 3</b>\n",
        "\n",
        "Escribe una función llamada **describe_city()** que acepte el nombre de una ciudad y su país. La función debe imprimir una oración simple, como Reykjavik está en Islandia. Asigne al parámetro para el país un valor predeterminado. Llame a su función para tres ciudades diferentes, al menos una de las cuales no se encuentra en el país predeterminado.\n",
        "\n",
        "----"
      ],
      "metadata": {
        "id": "G0qpoz40uBJt"
      }
    },
    {
      "cell_type": "code",
      "source": [
        "def describe_city(city, country = \"Perú\"):\n",
        "  \"\"\"Esta funcion devuelve una ciudad y su respectivo pais\"\"\"\n",
        "  print(f\"{city.title()} esta en {country.title()}\")"
      ],
      "metadata": {
        "id": "fpAB1rQu84oU"
      },
      "execution_count": 10,
      "outputs": []
    },
    {
      "cell_type": "code",
      "source": [
        "describe_city('lima')"
      ],
      "metadata": {
        "colab": {
          "base_uri": "https://localhost:8080/"
        },
        "id": "-kf-bBc688vJ",
        "outputId": "bae2c4c8-ebe9-422c-ffb5-25c6d31a901b"
      },
      "execution_count": 11,
      "outputs": [
        {
          "output_type": "stream",
          "name": "stdout",
          "text": [
            "Lima esta en Perú\n"
          ]
        }
      ]
    },
    {
      "cell_type": "code",
      "source": [
        "describe_city(city = \"Reykjavik\", country = \"Islandia\")"
      ],
      "metadata": {
        "colab": {
          "base_uri": "https://localhost:8080/"
        },
        "id": "TP9z6z7y8-M9",
        "outputId": "b0d58a64-c411-4d3c-e08c-12ade2414df4"
      },
      "execution_count": 12,
      "outputs": [
        {
          "output_type": "stream",
          "name": "stdout",
          "text": [
            "Reykjavik esta en Islandia\n"
          ]
        }
      ]
    },
    {
      "cell_type": "code",
      "source": [
        "describe_city(\"buenos aires\",\"argentina\")"
      ],
      "metadata": {
        "colab": {
          "base_uri": "https://localhost:8080/"
        },
        "id": "bxD6sfh38_5Q",
        "outputId": "eb6972f8-f490-4543-fb86-7b487b291007"
      },
      "execution_count": 13,
      "outputs": [
        {
          "output_type": "stream",
          "name": "stdout",
          "text": [
            "Buenos Aires esta en Argentina\n"
          ]
        }
      ]
    }
  ]
}